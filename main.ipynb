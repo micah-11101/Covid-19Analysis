{
 "cells": [
  {
   "cell_type": "code",
   "execution_count": null,
   "metadata": {},
   "outputs": [],
   "source": [
    "#Import libraries \n",
    "import numpy as np\n",
    "import matplotlib.pyplot as plt\n",
    "import hvplot.pandas as hvplot\n",
    "import pandas as pd \n",
    "import requests\n",
    "import csv\n",
    "\n",
    "#Define the file path\n",
    "file = \"./Data/time_series_covid19_confirmed_US.csv\"\n",
    "#Read the csv\n",
    "covid_df = pd.read_csv(file)\n",
    "covid_df.head()"
   ]
  },
  {
   "cell_type": "code",
   "execution_count": null,
   "metadata": {},
   "outputs": [],
   "source": [
    "#Cleaning the data\n",
    "clean_df = covid_df.loc[(covid_df[\"Long_\"] != 0.0) & (covid_df[\"Lat\"] != 0.0)]\n",
    "clean_df = clean_df.dropna()\n",
    "\n",
    "clean_df.head()"
   ]
  },
  {
   "cell_type": "code",
   "execution_count": null,
   "metadata": {},
   "outputs": [],
   "source": [
    "#Example\n",
    "minnesota_df = clean_df.loc[covid_df[\"Province_State\"] == \"Minnesota\"]\n",
    "minnesota_df.head()"
   ]
  },
  {
   "cell_type": "code",
   "execution_count": null,
   "metadata": {},
   "outputs": [],
   "source": [
    "minnesota_map = minnesota_df.hvplot.points(\n",
    "    \"Long_\",\n",
    "    \"Lat\",\n",
    "    geo = True,\n",
    "    color=\"Admin2\"\n",
    "    \n",
    ")\n",
    "minnesota_map"
   ]
  },
  {
   "cell_type": "code",
   "execution_count": null,
   "metadata": {},
   "outputs": [],
   "source": [
    "minnesota_df.plot(\"Admin2\",\"2/28/23\",kind=\"bar\",figsize=(30,10))\n"
   ]
  },
  {
   "cell_type": "code",
   "execution_count": null,
   "metadata": {},
   "outputs": [],
   "source": [
    "#Cleaning code"
   ]
  },
  {
   "cell_type": "code",
   "execution_count": null,
   "metadata": {},
   "outputs": [],
   "source": []
  },
  {
   "cell_type": "code",
   "execution_count": null,
   "metadata": {},
   "outputs": [],
   "source": []
  },
  {
   "cell_type": "code",
   "execution_count": null,
   "metadata": {},
   "outputs": [],
   "source": []
  },
  {
   "cell_type": "code",
   "execution_count": null,
   "metadata": {},
   "outputs": [],
   "source": []
  },
  {
   "cell_type": "code",
   "execution_count": null,
   "metadata": {},
   "outputs": [],
   "source": []
  },
  {
   "cell_type": "code",
   "execution_count": null,
   "metadata": {},
   "outputs": [],
   "source": []
  },
  {
   "cell_type": "code",
   "execution_count": null,
   "metadata": {},
   "outputs": [],
   "source": []
  },
  {
   "cell_type": "code",
   "execution_count": null,
   "metadata": {},
   "outputs": [],
   "source": []
  },
  {
   "cell_type": "code",
   "execution_count": null,
   "metadata": {},
   "outputs": [],
   "source": [
    "#Viktor"
   ]
  },
  {
   "cell_type": "code",
   "execution_count": null,
   "metadata": {},
   "outputs": [],
   "source": []
  },
  {
   "cell_type": "code",
   "execution_count": null,
   "metadata": {},
   "outputs": [],
   "source": []
  },
  {
   "cell_type": "code",
   "execution_count": null,
   "metadata": {},
   "outputs": [],
   "source": []
  },
  {
   "cell_type": "code",
   "execution_count": null,
   "metadata": {},
   "outputs": [],
   "source": []
  },
  {
   "cell_type": "code",
   "execution_count": null,
   "metadata": {},
   "outputs": [],
   "source": []
  },
  {
   "cell_type": "code",
   "execution_count": null,
   "metadata": {},
   "outputs": [],
   "source": []
  },
  {
   "cell_type": "code",
   "execution_count": null,
   "metadata": {},
   "outputs": [],
   "source": []
  },
  {
   "cell_type": "code",
   "execution_count": null,
   "metadata": {},
   "outputs": [],
   "source": []
  },
  {
   "cell_type": "code",
   "execution_count": null,
   "metadata": {},
   "outputs": [],
   "source": []
  },
  {
   "cell_type": "code",
   "execution_count": null,
   "metadata": {},
   "outputs": [],
   "source": []
  },
  {
   "cell_type": "code",
   "execution_count": null,
   "metadata": {},
   "outputs": [],
   "source": []
  },
  {
   "cell_type": "code",
   "execution_count": null,
   "metadata": {},
   "outputs": [],
   "source": []
  },
  {
   "cell_type": "code",
   "execution_count": null,
   "metadata": {},
   "outputs": [],
   "source": []
  },
  {
   "cell_type": "code",
   "execution_count": null,
   "metadata": {},
   "outputs": [],
   "source": []
  },
  {
   "cell_type": "code",
   "execution_count": null,
   "metadata": {},
   "outputs": [],
   "source": []
  },
  {
   "cell_type": "code",
   "execution_count": null,
   "metadata": {},
   "outputs": [],
   "source": []
  },
  {
   "cell_type": "code",
   "execution_count": null,
   "metadata": {},
   "outputs": [],
   "source": []
  },
  {
   "cell_type": "code",
   "execution_count": null,
   "metadata": {},
   "outputs": [],
   "source": []
  },
  {
   "cell_type": "code",
   "execution_count": null,
   "metadata": {},
   "outputs": [],
   "source": [
    "#Viktor"
   ]
  },
  {
   "cell_type": "code",
   "execution_count": null,
   "metadata": {},
   "outputs": [],
   "source": [
    "#Samantha \n",
    "#display csv\n",
    "df_bachelor= pd.read_csv('./Education/bachelor_degree.csv')\n",
    "df_bachelor= df_bachelor.loc[df_bachelor[\"County\"] != \"United States\"]\n",
    "df_bachelor = df_bachelor.loc[df_bachelor[\"County\"] != \"Minnesota\"]\n",
    "print(\"Bachelor Degree Data:\")\n",
    "df_bachelor"
   ]
  },
  {
   "cell_type": "code",
   "execution_count": null,
   "metadata": {},
   "outputs": [],
   "source": [
    "df_high_school = pd.read_csv('./Education/high school.csv')\n",
    "df_high_school = df_high_school.loc[df_high_school[\"County\"] != \"United States\"]\n",
    "df_high_school = df_high_school.loc[df_high_school[\"County\"] != \"Minnesota\"]\n",
    "print(\"\\nHigh School Education Data:\")\n",
    "df_high_school"
   ]
  },
  {
   "cell_type": "code",
   "execution_count": null,
   "metadata": {},
   "outputs": [],
   "source": [
    "df_9th_grade = pd.read_csv('./Education/9th grade.csv')\n",
    "df_9th_grade = df_9th_grade.loc[df_9th_grade[\"County\"] != \"United States\"]\n",
    "df_9th_grade = df_9th_grade.loc[df_9th_grade[\"County\"] != \"Minnesota\"]\n",
    "print(\"\\n9th Grade Education Data:\")\n",
    "df_9th_grade"
   ]
  },
  {
   "cell_type": "code",
   "execution_count": null,
   "metadata": {},
   "outputs": [],
   "source": [
    "# Merge the DataFrames on the 'County' column\n",
    "merged_df = df_bachelor.merge(df_high_school, on='County', suffixes=('_bachelor', '_high_school'))\n",
    "merged_df = merged_df.merge(df_9th_grade, on='County')\n",
    "\n",
    "# Rename columns for clarity if needed\n",
    "merged_df.rename(columns={\n",
    "    'Value Bachelor (Percent)': 'Percent_Bachelor',\n",
    "    'Value High School (Percent)': 'People_High_School',\n",
    "    'Value 9th Grade (Percent)': 'Percent_9th_Grade'\n",
    "}, inplace=True)\n",
    "\n",
    "# Print the merged DataFrame\n",
    "print(\"\\nMerged Data:\")\n",
    "merged_df"
   ]
  },
  {
   "cell_type": "code",
   "execution_count": null,
   "metadata": {},
   "outputs": [],
   "source": [
    "# Update column names in the code based on the actual column names\n",
    "counties = merged_df['County']\n",
    "bachelor_degrees = merged_df['Value Bachelor(Percent)']  # Check exact match\n",
    "high_school_education = merged_df['Value High School(Percent)']  # Check exact match\n",
    "ninth_grade_education = merged_df['Value 9th Grade(Percent)']  # Check exact match\n",
    "merged_df.columns = merged_df.columns.str.strip()\n",
    "# Plotting\n",
    "plt.figure(figsize=(15, 15))\n",
    "\n",
    "# Stacked bar chart\n",
    "plt.barh(counties, bachelor_degrees, color='lightblue', label='Bachelor Degree')\n",
    "plt.barh(counties, high_school_education, left=bachelor_degrees, color='lightgreen', label='High School Education')\n",
    "plt.barh(counties, ninth_grade_education, left=bachelor_degrees + high_school_education, color='lightcoral', label='9th Grade Education')\n",
    "\n",
    "# Adding labels and title\n",
    "plt.xlabel('Percent of Population')\n",
    "plt.ylabel('County')\n",
    "plt.title('Education Levels by County')\n",
    "plt.legend(title='Education Level')\n",
    "plt.gca().invert_yaxis()  # Invert y-axis to have the highest values at the top\n",
    "\n",
    "# Show the plot\n",
    "plt.show()"
   ]
  },
  {
   "cell_type": "code",
   "execution_count": null,
   "metadata": {},
   "outputs": [],
   "source": [
    "#display csv\n",
    "df_census= pd.read_csv('./Education/Census Data.csv')\n",
    "print(\"\\nCensus Data:\")\n",
    "df_census"
   ]
  },
  {
   "cell_type": "code",
   "execution_count": null,
   "metadata": {},
   "outputs": [],
   "source": [
    "# Extract columns\n",
    "years = df_census['year']\n",
    "high_school_graduate = df_census['high_school_graduate']\n",
    "high_school_grad_or_higher = df_census['high_school_graduate_or_higher']  # Correct column name\n",
    "bachelors_degree = df_census['bachelors_degree']\n",
    "bachelors_degree_or_higher = df_census['bachelors_degree_or_higher']\n",
    "\n",
    "# Create the plot\n",
    "plt.figure(figsize=(10, 6))\n",
    "\n",
    "plt.plot(years, high_school_graduate, marker='o', label='High School Graduate')\n",
    "plt.plot(years, high_school_grad_or_higher, marker='o', label='High School Graduate or Higher')\n",
    "plt.plot(years, bachelors_degree, marker='o', label='Bachelors Degree')\n",
    "plt.plot(years, bachelors_degree_or_higher, marker='o', label='Bachelors Degree or Higher')\n",
    "\n",
    "# Adding titles and labels\n",
    "plt.title('Educational Attainment Over Years by Population')\n",
    "plt.xlabel('Year')\n",
    "plt.ylabel('Count')\n",
    "plt.legend()\n",
    "plt.grid(True)\n",
    "plt.xticks(years)\n",
    "\n",
    "# Show the plot\n",
    "plt.tight_layout()\n",
    "plt.show()"
   ]
  },
  {
   "cell_type": "code",
   "execution_count": null,
   "metadata": {},
   "outputs": [],
   "source": [
    "# Calculate percentages\n",
    "df_census['percent_high_school_graduate'] = (df_census['high_school_graduate'] / df_census['population_25_years_and_over']) * 100\n",
    "df_census['percent_high_school_graduate_or_higher'] = (df_census['high_school_graduate_or_higher'] / df_census['population_25_years_and_over']) * 100\n",
    "df_census['percent_bachelors_degree'] = (df_census['bachelors_degree'] / df_census['population_25_years_and_over']) * 100\n",
    "df_census['percent_bachelors_degree_or_higher'] = (df_census['bachelors_degree_or_higher'] / df_census['population_25_years_and_over']) * 100\n",
    "\n",
    "# Display the updated DataFrame with percentages\n",
    "print(\"\\nUpdated Census Data with Percentages:\")\n",
    "print(df_census[['year', 'percent_high_school_graduate', 'percent_high_school_graduate_or_higher',\n",
    "                 'percent_bachelors_degree', 'percent_bachelors_degree_or_higher']])"
   ]
  },
  {
   "cell_type": "code",
   "execution_count": null,
   "metadata": {},
   "outputs": [],
   "source": [
    "# Set the figure size\n",
    "plt.figure(figsize=(12, 8))\n",
    "\n",
    "# Bar width and positions\n",
    "bar_width = 0.2\n",
    "index = range(len(df_census['year']))\n",
    "\n",
    "# Plot bars for each category\n",
    "plt.bar([i - 1.5 * bar_width for i in index], df_census['percent_high_school_graduate'], bar_width, label='High School Graduate')\n",
    "plt.bar([i - 0.5 * bar_width for i in index], df_census['percent_high_school_graduate_or_higher'], bar_width, label='High School Graduate or Higher')\n",
    "plt.bar([i + 0.5 * bar_width for i in index], df_census['percent_bachelors_degree'], bar_width, label='Bachelors Degree')\n",
    "plt.bar([i + 1.5 * bar_width for i in index], df_census['percent_bachelors_degree_or_higher'], bar_width, label='Bachelors Degree or Higher')\n",
    "\n",
    "# Adding titles and labels\n",
    "plt.title('Educational Attainment Percentages Over Years')\n",
    "plt.xlabel('Year')\n",
    "plt.ylabel('Percentage (%)')\n",
    "plt.xticks(index, df_census['year'])\n",
    "plt.legend()\n",
    "plt.grid(True, linestyle='--', alpha=0.7)\n",
    "\n",
    "# Show the plot\n",
    "plt.tight_layout()\n",
    "plt.show()"
   ]
  },
  {
   "cell_type": "code",
   "execution_count": null,
   "metadata": {},
   "outputs": [],
   "source": [
    "df_years= pd.read_csv('./Education/2019^02021.csv')\n",
    "df_years.head()"
   ]
  },
  {
   "cell_type": "code",
   "execution_count": null,
   "metadata": {},
   "outputs": [],
   "source": [
    "# Correlation between high school or higher attainment and population of 18-24 year olds\n",
    "correlation_high_school_population = df_years[['high_school_or_equal_2019', 'population_18-24_2019']].corr().iloc[0, 1]\n",
    "correlation_bachelors_population = df_years[['bachelors_or_higher_2019', 'population_18-24_2019']].corr().iloc[0, 1]\n",
    "correlation_high_school_population_2 = df_years[['high_school_or_equal_2021', 'population_18-24_2021']].corr().iloc[0, 1]\n",
    "correlation_bachelors_population_2 = df_years[['bachelors_or_higher_2021', 'population_18-24_2021']].corr().iloc[0, 1]\n",
    "\n",
    "print(f\"Correlation between High School or Higher Attainment and Population 18-24 (2019): {correlation_high_school_population}\")\n",
    "print(f\"Correlation between Bachelor's or Higher Attainment and Population 18-24 (2019): {correlation_bachelors_population}\")\n",
    "print(f\"Correlation between High School or Higher Attainment and Population 18-24 (2021): {correlation_high_school_population_2}\")\n",
    "print(f\"Correlation between Bachelor's or Higher Attainment and Population 18-24 (2021): {correlation_bachelors_population_2}\")"
   ]
  },
  {
   "cell_type": "code",
   "execution_count": null,
   "metadata": {},
   "outputs": [],
   "source": [
    "# Calculate percentages\n",
    "df_years['hs_percent_2019'] = (df_years['high_school_or_equal_2019'] / df_years['population_18-24_2019']) * 100\n",
    "df_years['bachelor_percent_2019'] = (df_years['bachelors_or_higher_2019'] / df_years['population_18-24_2019']) * 100\n",
    "df_years['hs_percent_2021'] = (df_years['high_school_or_equal_2021'] / df_years['population_18-24_2021']) * 100\n",
    "df_years['bachelor_percent_2021'] = (df_years['bachelors_or_higher_2021'] / df_years['population_18-24_2021']) * 100\n",
    "\n",
    "# Display the DataFrame with the calculated percentages\n",
    "print(df_years[['states', 'hs_percent_2019', 'bachelor_percent_2019', 'hs_percent_2021', 'bachelor_percent_2021']])\n",
    "\n",
    "# Optionally, save the results to a new CSV file\n",
    "df_years.to_csv('education_percentages.csv', index=False)"
   ]
  },
  {
   "cell_type": "code",
   "execution_count": null,
   "metadata": {},
   "outputs": [],
   "source": [
    "# Plotting the line graphs\n",
    "plt.figure(figsize=(14, 7))\n",
    "\n",
    "# Line plot for high school or higher percentage\n",
    "plt.plot(df_years['states'], df_years['hs_percent_2019'], marker='o', label='High School or Higher 2019')\n",
    "plt.plot(df_years['states'], df_years['hs_percent_2021'], marker='o', linestyle='--', label='High School or Higher 2021')\n",
    "\n",
    "# Line plot for bachelor's or higher percentage\n",
    "plt.plot(df_years['states'], df_years['bachelor_percent_2019'], marker='s', label='Bachelor\\'s or Higher 2019')\n",
    "plt.plot(df_years['states'], df_years['bachelor_percent_2021'], marker='s', linestyle='--', label='Bachelor\\'s or Higher 2021')\n",
    "\n",
    "# Adding labels and title\n",
    "plt.xlabel('States')\n",
    "plt.ylabel('Percentage (%)')\n",
    "plt.title('Percentage of Educational Attainment by Year for Ages 18-24')\n",
    "plt.xticks(rotation=90)  # Rotate state names for better visibility\n",
    "plt.legend()\n",
    "plt.grid(True)\n",
    "\n",
    "# Display the plot\n",
    "plt.tight_layout()\n",
    "plt.show()\n"
   ]
  },
  {
   "cell_type": "code",
   "execution_count": null,
   "metadata": {},
   "outputs": [],
   "source": [
    "# Create a figure and axis\n",
    "plt.figure(figsize=(14, 7))\n",
    "\n",
    "# Define the position of bars on the x-axis\n",
    "bar_width = 0.35\n",
    "index = np.arange(len(df_years['states']))\n",
    "\n",
    "# Bar plot for high school or higher percentage\n",
    "plt.bar(index - bar_width/2, df_years['hs_percent_2019'], bar_width, label='High School or Equal 2019', color= 'green')\n",
    "plt.bar(index + bar_width/2, df_years['hs_percent_2021'], bar_width, label='High School or Equal 2021', color= 'black')\n",
    "\n",
    "# Bar plot for bachelor's or higher percentage\n",
    "plt.bar(index - bar_width/2, df_years['bachelor_percent_2019'], bar_width, label='Bachelor\\'s or Higher 2019', alpha=0.5, color= 'blue')\n",
    "plt.bar(index + bar_width/2, df_years['bachelor_percent_2021'], bar_width, label='Bachelor\\'s or Higher 2021', alpha=0.5, color= 'magenta')\n",
    "\n",
    "# Adding labels and title\n",
    "plt.xlabel('States')\n",
    "plt.ylabel('Percentage (%)')\n",
    "plt.title('Percentage of Educational Attainment by Year for Ages 18-24')\n",
    "plt.xticks(index, df_years['states'], rotation=90)  # Rotate state names for better visibility\n",
    "plt.legend()\n",
    "plt.grid(True)\n",
    "\n",
    "# Display the plot\n",
    "plt.tight_layout()\n",
    "plt.show()"
   ]
  },
  {
   "cell_type": "code",
   "execution_count": null,
   "metadata": {},
   "outputs": [],
   "source": [
    "# Create a figure and axis\n",
    "plt.figure(figsize=(14, 7))\n",
    "\n",
    "# Define the position of bars on the x-axis\n",
    "bar_width = 0.35\n",
    "index = np.arange(len(df_years['states']))\n",
    "\n",
    "# Bar plot for bachelor's or higher percentage\n",
    "plt.bar(index - bar_width/2, df_years['bachelor_percent_2019'], bar_width, label='Bachelor\\'s or Higher 2019', alpha=0.5, color= 'blue')\n",
    "plt.bar(index + bar_width/2, df_years['bachelor_percent_2021'], bar_width, label='Bachelor\\'s or Higher 2021', alpha=0.5, color= 'magenta')\n",
    "\n",
    "# Adding labels and title\n",
    "plt.xlabel('States')\n",
    "plt.ylabel('Percentage (%)')\n",
    "plt.title('Percentage of Educational Attainment by Year for Ages 18-24')\n",
    "plt.xticks(index, df_years['states'], rotation=90)  # Rotate state names for better visibility\n",
    "plt.legend()\n",
    "plt.grid(True)\n",
    "\n",
    "# Display the plot\n",
    "plt.tight_layout()\n",
    "plt.show()"
   ]
  },
  {
   "cell_type": "code",
   "execution_count": null,
   "metadata": {},
   "outputs": [],
   "source": [
    "# Create a figure and axis\n",
    "plt.figure(figsize=(14, 7))\n",
    "\n",
    "# Define the position of bars on the x-axis\n",
    "bar_width = 0.35\n",
    "index = np.arange(len(df_years['states']))\n",
    "\n",
    "# Bar plot for high school or higher percentage\n",
    "plt.bar(index - bar_width/2, df_years['hs_percent_2019'], bar_width, label='High School or Equal 2019', color= 'green')\n",
    "plt.bar(index + bar_width/2, df_years['hs_percent_2021'], bar_width, label='High School or Equal 2021', color= 'black')\n",
    "\n",
    "# Adding labels and title\n",
    "plt.xlabel('States')\n",
    "plt.ylabel('Percentage (%)')\n",
    "plt.title('Percentage of Educational Attainment by Year for Ages 18-24')\n",
    "plt.xticks(index, df_years['states'], rotation=90)  # Rotate state names for better visibility\n",
    "plt.legend()\n",
    "plt.grid(True)\n",
    "\n",
    "# Display the plot\n",
    "plt.tight_layout()\n",
    "plt.show()"
   ]
  },
  {
   "cell_type": "code",
   "execution_count": null,
   "metadata": {},
   "outputs": [],
   "source": []
  },
  {
   "cell_type": "code",
   "execution_count": null,
   "metadata": {},
   "outputs": [],
   "source": []
  },
  {
   "cell_type": "code",
   "execution_count": null,
   "metadata": {},
   "outputs": [],
   "source": []
  },
  {
   "cell_type": "code",
   "execution_count": null,
   "metadata": {},
   "outputs": [],
   "source": [
    "#Samantha"
   ]
  },
  {
   "cell_type": "code",
   "execution_count": null,
   "metadata": {},
   "outputs": [],
   "source": [
    "#Nicholas"
   ]
  },
  {
   "cell_type": "code",
   "execution_count": null,
   "metadata": {},
   "outputs": [],
   "source": []
  },
  {
   "cell_type": "code",
   "execution_count": null,
   "metadata": {},
   "outputs": [],
   "source": []
  },
  {
   "cell_type": "code",
   "execution_count": null,
   "metadata": {},
   "outputs": [],
   "source": []
  },
  {
   "cell_type": "code",
   "execution_count": null,
   "metadata": {},
   "outputs": [],
   "source": []
  },
  {
   "cell_type": "code",
   "execution_count": null,
   "metadata": {},
   "outputs": [],
   "source": []
  },
  {
   "cell_type": "code",
   "execution_count": null,
   "metadata": {},
   "outputs": [],
   "source": []
  },
  {
   "cell_type": "code",
   "execution_count": null,
   "metadata": {},
   "outputs": [],
   "source": []
  },
  {
   "cell_type": "code",
   "execution_count": null,
   "metadata": {},
   "outputs": [],
   "source": []
  },
  {
   "cell_type": "code",
   "execution_count": null,
   "metadata": {},
   "outputs": [],
   "source": []
  },
  {
   "cell_type": "code",
   "execution_count": null,
   "metadata": {},
   "outputs": [],
   "source": []
  },
  {
   "cell_type": "code",
   "execution_count": null,
   "metadata": {},
   "outputs": [],
   "source": []
  },
  {
   "cell_type": "code",
   "execution_count": null,
   "metadata": {},
   "outputs": [],
   "source": []
  },
  {
   "cell_type": "code",
   "execution_count": null,
   "metadata": {},
   "outputs": [],
   "source": []
  },
  {
   "cell_type": "code",
   "execution_count": null,
   "metadata": {},
   "outputs": [],
   "source": []
  },
  {
   "cell_type": "code",
   "execution_count": null,
   "metadata": {},
   "outputs": [],
   "source": []
  },
  {
   "cell_type": "code",
   "execution_count": null,
   "metadata": {},
   "outputs": [],
   "source": []
  },
  {
   "cell_type": "code",
   "execution_count": null,
   "metadata": {},
   "outputs": [],
   "source": []
  },
  {
   "cell_type": "code",
   "execution_count": null,
   "metadata": {},
   "outputs": [],
   "source": []
  },
  {
   "cell_type": "code",
   "execution_count": null,
   "metadata": {},
   "outputs": [],
   "source": [
    "#Nicholas"
   ]
  },
  {
   "cell_type": "code",
   "execution_count": null,
   "metadata": {},
   "outputs": [],
   "source": [
    "#Mysee"
   ]
  },
  {
   "cell_type": "code",
   "execution_count": null,
   "metadata": {},
   "outputs": [],
   "source": []
  },
  {
   "cell_type": "code",
   "execution_count": null,
   "metadata": {},
   "outputs": [],
   "source": []
  },
  {
   "cell_type": "code",
   "execution_count": null,
   "metadata": {},
   "outputs": [],
   "source": []
  },
  {
   "cell_type": "code",
   "execution_count": null,
   "metadata": {},
   "outputs": [],
   "source": []
  },
  {
   "cell_type": "code",
   "execution_count": null,
   "metadata": {},
   "outputs": [],
   "source": []
  },
  {
   "cell_type": "code",
   "execution_count": null,
   "metadata": {},
   "outputs": [],
   "source": []
  },
  {
   "cell_type": "code",
   "execution_count": null,
   "metadata": {},
   "outputs": [],
   "source": []
  },
  {
   "cell_type": "code",
   "execution_count": null,
   "metadata": {},
   "outputs": [],
   "source": []
  },
  {
   "cell_type": "code",
   "execution_count": null,
   "metadata": {},
   "outputs": [],
   "source": []
  },
  {
   "cell_type": "code",
   "execution_count": null,
   "metadata": {},
   "outputs": [],
   "source": []
  },
  {
   "cell_type": "code",
   "execution_count": null,
   "metadata": {},
   "outputs": [],
   "source": []
  },
  {
   "cell_type": "code",
   "execution_count": null,
   "metadata": {},
   "outputs": [],
   "source": []
  },
  {
   "cell_type": "code",
   "execution_count": null,
   "metadata": {},
   "outputs": [],
   "source": []
  },
  {
   "cell_type": "code",
   "execution_count": null,
   "metadata": {},
   "outputs": [],
   "source": []
  },
  {
   "cell_type": "code",
   "execution_count": null,
   "metadata": {},
   "outputs": [],
   "source": []
  },
  {
   "cell_type": "code",
   "execution_count": null,
   "metadata": {},
   "outputs": [],
   "source": []
  },
  {
   "cell_type": "code",
   "execution_count": null,
   "metadata": {},
   "outputs": [],
   "source": []
  },
  {
   "cell_type": "code",
   "execution_count": null,
   "metadata": {},
   "outputs": [],
   "source": []
  },
  {
   "cell_type": "code",
   "execution_count": null,
   "metadata": {},
   "outputs": [],
   "source": [
    "#Mysee"
   ]
  },
  {
   "cell_type": "code",
   "execution_count": null,
   "metadata": {},
   "outputs": [],
   "source": [
    "#Micah"
   ]
  },
  {
   "cell_type": "code",
   "execution_count": null,
   "metadata": {},
   "outputs": [],
   "source": []
  },
  {
   "cell_type": "code",
   "execution_count": null,
   "metadata": {},
   "outputs": [],
   "source": []
  },
  {
   "cell_type": "code",
   "execution_count": null,
   "metadata": {},
   "outputs": [],
   "source": []
  },
  {
   "cell_type": "code",
   "execution_count": null,
   "metadata": {},
   "outputs": [],
   "source": []
  },
  {
   "cell_type": "code",
   "execution_count": null,
   "metadata": {},
   "outputs": [],
   "source": []
  },
  {
   "cell_type": "code",
   "execution_count": null,
   "metadata": {},
   "outputs": [],
   "source": []
  },
  {
   "cell_type": "code",
   "execution_count": null,
   "metadata": {},
   "outputs": [],
   "source": []
  },
  {
   "cell_type": "code",
   "execution_count": null,
   "metadata": {},
   "outputs": [],
   "source": []
  },
  {
   "cell_type": "code",
   "execution_count": null,
   "metadata": {},
   "outputs": [],
   "source": []
  },
  {
   "cell_type": "code",
   "execution_count": null,
   "metadata": {},
   "outputs": [],
   "source": []
  },
  {
   "cell_type": "code",
   "execution_count": null,
   "metadata": {},
   "outputs": [],
   "source": []
  },
  {
   "cell_type": "code",
   "execution_count": null,
   "metadata": {},
   "outputs": [],
   "source": []
  },
  {
   "cell_type": "code",
   "execution_count": null,
   "metadata": {},
   "outputs": [],
   "source": []
  },
  {
   "cell_type": "code",
   "execution_count": null,
   "metadata": {},
   "outputs": [],
   "source": []
  },
  {
   "cell_type": "code",
   "execution_count": null,
   "metadata": {},
   "outputs": [],
   "source": []
  },
  {
   "cell_type": "code",
   "execution_count": null,
   "metadata": {},
   "outputs": [],
   "source": []
  },
  {
   "cell_type": "code",
   "execution_count": null,
   "metadata": {},
   "outputs": [],
   "source": []
  },
  {
   "cell_type": "code",
   "execution_count": null,
   "metadata": {},
   "outputs": [],
   "source": []
  },
  {
   "cell_type": "code",
   "execution_count": null,
   "metadata": {},
   "outputs": [],
   "source": [
    "#Micah"
   ]
  }
 ],
 "metadata": {
  "kernelspec": {
   "display_name": "dev",
   "language": "python",
   "name": "python3"
  },
  "language_info": {
   "codemirror_mode": {
    "name": "ipython",
    "version": 3
   },
   "file_extension": ".py",
   "mimetype": "text/x-python",
   "name": "python",
   "nbconvert_exporter": "python",
   "pygments_lexer": "ipython3",
   "version": "3.10.14"
  }
 },
 "nbformat": 4,
 "nbformat_minor": 2
}
