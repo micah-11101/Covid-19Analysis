{
 "cells": [
  {
   "cell_type": "code",
   "execution_count": null,
   "metadata": {},
   "outputs": [],
   "source": [
    "#Import libraries \n",
    "import numpy as np\n",
    "import matplotlib.pyplot as plt\n",
    "import hvplot.pandas as hvplot\n",
    "import pandas as pd \n",
    "import requests\n",
    "import csv\n",
    "import os\n",
    "import geopandas as gpd\n",
    "from shapely.geometry import Polygon\n",
    "from matplotlib.ticker import FuncFormatter\n",
    "import matplotlib.colors as mcolors\n",
    "import openpyxl\n",
    "import math\n",
    "\n",
    "#Define the file path\n",
    "file = \"./Data/time_series_covid19_confirmed_US.csv\"\n",
    "file2 = \"./Data/Table.csv\"\n",
    "file3 = \"./Data/time_series_covid19_confirmed_global (1).csv\"\n",
    "file4 = \"./Data/UID_ISO_FIPS_LookUp_Table.csv\"\n",
    "#Read the csv\n",
    "covid_df = pd.read_csv(file)\n",
    "covid_df.head()"
   ]
  },
  {
   "cell_type": "code",
   "execution_count": null,
   "metadata": {},
   "outputs": [],
   "source": [
    "#Cleaning the data\n",
    "clean_df = covid_df.loc[(covid_df[\"Long_\"] != 0.0) & (covid_df[\"Lat\"] != 0.0)]\n",
    "clean_df = clean_df.dropna()\n",
    "\n",
    "clean_df.head()"
   ]
  },
  {
   "cell_type": "code",
   "execution_count": null,
   "metadata": {},
   "outputs": [],
   "source": [
    "#Example\n",
    "minnesota_df = clean_df.loc[covid_df[\"Province_State\"] == \"Minnesota\"]\n",
    "minnesota_df.head()"
   ]
  },
  {
   "cell_type": "code",
   "execution_count": null,
   "metadata": {},
   "outputs": [],
   "source": [
    "minnesota_map = minnesota_df.hvplot.points(\n",
    "    \"Long_\",\n",
    "    \"Lat\",\n",
    "    geo = True,\n",
    "    color=\"Admin2\"\n",
    "    \n",
    ")\n",
    "minnesota_map"
   ]
  },
  {
   "cell_type": "code",
   "execution_count": null,
   "metadata": {},
   "outputs": [],
   "source": [
    "minnesota_df.plot(\"Admin2\",\"2/28/23\",kind=\"bar\",figsize=(30,10))\n"
   ]
  },
  {
   "cell_type": "code",
   "execution_count": null,
   "metadata": {},
   "outputs": [],
   "source": [
    "#Cleaning code"
   ]
  },
  {
   "cell_type": "code",
   "execution_count": null,
   "metadata": {},
   "outputs": [],
   "source": [
    "\n"
   ]
  },
  {
   "cell_type": "code",
   "execution_count": null,
   "metadata": {},
   "outputs": [],
   "source": [
    "\n"
   ]
  },
  {
   "cell_type": "code",
   "execution_count": null,
   "metadata": {},
   "outputs": [],
   "source": []
  },
  {
   "cell_type": "code",
   "execution_count": null,
   "metadata": {},
   "outputs": [],
   "source": []
  },
  {
   "cell_type": "code",
   "execution_count": null,
   "metadata": {},
   "outputs": [],
   "source": []
  },
  {
   "cell_type": "code",
   "execution_count": null,
   "metadata": {},
   "outputs": [],
   "source": []
  },
  {
   "cell_type": "code",
   "execution_count": null,
   "metadata": {},
   "outputs": [],
   "source": [
    "\n"
   ]
  },
  {
   "cell_type": "code",
   "execution_count": null,
   "metadata": {},
   "outputs": [],
   "source": []
  },
  {
   "cell_type": "code",
   "execution_count": null,
   "metadata": {},
   "outputs": [],
   "source": [
    "#Viktor"
   ]
  },
  {
   "cell_type": "code",
   "execution_count": null,
   "metadata": {},
   "outputs": [],
   "source": []
  },
  {
   "cell_type": "code",
   "execution_count": null,
   "metadata": {},
   "outputs": [],
   "source": []
  },
  {
   "cell_type": "code",
   "execution_count": null,
   "metadata": {},
   "outputs": [],
   "source": []
  },
  {
   "cell_type": "code",
   "execution_count": null,
   "metadata": {},
   "outputs": [],
   "source": []
  },
  {
   "cell_type": "code",
   "execution_count": null,
   "metadata": {},
   "outputs": [],
   "source": []
  },
  {
   "cell_type": "code",
   "execution_count": null,
   "metadata": {},
   "outputs": [],
   "source": []
  },
  {
   "cell_type": "code",
   "execution_count": null,
   "metadata": {},
   "outputs": [],
   "source": []
  },
  {
   "cell_type": "code",
   "execution_count": null,
   "metadata": {},
   "outputs": [],
   "source": []
  },
  {
   "cell_type": "code",
   "execution_count": null,
   "metadata": {},
   "outputs": [],
   "source": []
  },
  {
   "cell_type": "code",
   "execution_count": null,
   "metadata": {},
   "outputs": [],
   "source": []
  },
  {
   "cell_type": "code",
   "execution_count": null,
   "metadata": {},
   "outputs": [],
   "source": []
  },
  {
   "cell_type": "code",
   "execution_count": null,
   "metadata": {},
   "outputs": [],
   "source": []
  },
  {
   "cell_type": "code",
   "execution_count": null,
   "metadata": {},
   "outputs": [],
   "source": []
  },
  {
   "cell_type": "code",
   "execution_count": null,
   "metadata": {},
   "outputs": [],
   "source": []
  },
  {
   "cell_type": "code",
   "execution_count": null,
   "metadata": {},
   "outputs": [],
   "source": []
  },
  {
   "cell_type": "code",
   "execution_count": null,
   "metadata": {},
   "outputs": [],
   "source": []
  },
  {
   "cell_type": "code",
   "execution_count": null,
   "metadata": {},
   "outputs": [],
   "source": []
  },
  {
   "cell_type": "code",
   "execution_count": null,
   "metadata": {},
   "outputs": [],
   "source": []
  },
  {
   "cell_type": "code",
   "execution_count": null,
   "metadata": {},
   "outputs": [],
   "source": [
    "#Viktor"
   ]
  },
  {
   "cell_type": "code",
   "execution_count": null,
   "metadata": {},
   "outputs": [],
   "source": [
    "#Samantha"
   ]
  },
  {
   "cell_type": "code",
   "execution_count": null,
   "metadata": {},
   "outputs": [],
   "source": []
  },
  {
   "cell_type": "code",
   "execution_count": null,
   "metadata": {},
   "outputs": [],
   "source": []
  },
  {
   "cell_type": "code",
   "execution_count": null,
   "metadata": {},
   "outputs": [],
   "source": []
  },
  {
   "cell_type": "code",
   "execution_count": null,
   "metadata": {},
   "outputs": [],
   "source": []
  },
  {
   "cell_type": "code",
   "execution_count": null,
   "metadata": {},
   "outputs": [],
   "source": []
  },
  {
   "cell_type": "code",
   "execution_count": null,
   "metadata": {},
   "outputs": [],
   "source": []
  },
  {
   "cell_type": "code",
   "execution_count": null,
   "metadata": {},
   "outputs": [],
   "source": []
  },
  {
   "cell_type": "code",
   "execution_count": null,
   "metadata": {},
   "outputs": [],
   "source": []
  },
  {
   "cell_type": "code",
   "execution_count": null,
   "metadata": {},
   "outputs": [],
   "source": []
  },
  {
   "cell_type": "code",
   "execution_count": null,
   "metadata": {},
   "outputs": [],
   "source": []
  },
  {
   "cell_type": "code",
   "execution_count": null,
   "metadata": {},
   "outputs": [],
   "source": []
  },
  {
   "cell_type": "code",
   "execution_count": null,
   "metadata": {},
   "outputs": [],
   "source": []
  },
  {
   "cell_type": "code",
   "execution_count": null,
   "metadata": {},
   "outputs": [],
   "source": []
  },
  {
   "cell_type": "code",
   "execution_count": null,
   "metadata": {},
   "outputs": [],
   "source": []
  },
  {
   "cell_type": "code",
   "execution_count": null,
   "metadata": {},
   "outputs": [],
   "source": []
  },
  {
   "cell_type": "code",
   "execution_count": null,
   "metadata": {},
   "outputs": [],
   "source": []
  },
  {
   "cell_type": "code",
   "execution_count": null,
   "metadata": {},
   "outputs": [],
   "source": []
  },
  {
   "cell_type": "code",
   "execution_count": null,
   "metadata": {},
   "outputs": [],
   "source": []
  },
  {
   "cell_type": "code",
   "execution_count": null,
   "metadata": {},
   "outputs": [],
   "source": [
    "#Samantha"
   ]
  },
  {
   "cell_type": "code",
   "execution_count": null,
   "metadata": {},
   "outputs": [],
   "source": [
    "#Nicholas"
   ]
  },
  {
   "cell_type": "code",
   "execution_count": null,
   "metadata": {},
   "outputs": [],
   "source": [
    "state_gdp_df = pd.read_csv(file2)\n",
    "clean_state_gdp_df = state_gdp_df.loc[state_gdp_df[\"LineCode\"] == 1]\n",
    "clean_state_gdp_df2 = clean_state_gdp_df[clean_state_gdp_df[\"GeoName\"] != \"United States\"].reset_index(drop = True)\n",
    "clean_state_gdp_df3 = clean_state_gdp_df2.drop(clean_state_gdp_df2.tail(8).index)\n",
    "clean_state_gdp_rename_df = clean_state_gdp_df3.rename(columns = {\"2016\" : \"2016 RGDP\", \"2017\" : \"2017 RGDP\", \"2018\" : \"2018 RGDP\",\"2019\": \"2019 RGDP\", \"2020\" : \"2020 RGDP\" , \"2021\" : \"2021 RGDP\", \"2022\": \"2022 RGDP\", \"2023\" : \"2023 RGDP\", \"GeoName\" : \"Province_State\"})\n",
    "state_gdp_df_clean = clean_state_gdp_rename_df.drop(columns = {\"GeoFips\", \"LineCode\", \"Description\"})"
   ]
  },
  {
   "cell_type": "code",
   "execution_count": null,
   "metadata": {},
   "outputs": [],
   "source": [
    "population_df = pd.read_csv(file4)\n",
    "clean_pop_df = population_df.loc[population_df[\"Country_Region\"] == \"US\"].reset_index(drop = True)\n",
    "clean_pop_df2 = clean_pop_df.loc[clean_pop_df[\"FIPS\"].between(1,56)].reset_index(drop = True)\n",
    "clean_final_pop_df = clean_pop_df2.drop(columns = {\"UID\", \"iso2\", \"iso3\", \"code3\", \"FIPS\", \"Admin2\", \"Country_Region\", \"Combined_Key\"})"
   ]
  },
  {
   "cell_type": "code",
   "execution_count": null,
   "metadata": {},
   "outputs": [],
   "source": [
    "Start2020 = covid_df.groupby([\"Province_State\"])[\"1/22/20\"].min()\n",
    "End2020 = covid_df.groupby([\"Province_State\"])[\"12/31/20\"].sum()\n",
    "End2021 = covid_df.groupby([\"Province_State\"])[\"12/31/21\"].sum()\n",
    "End2022 = covid_df.groupby([\"Province_State\"])[\"12/31/22\"].sum()\n",
    "End2023 = covid_df.groupby([\"Province_State\"])[\"3/9/23\"].sum()\n",
    "\n",
    "average_infections_state = pd.DataFrame({\"Infections as of 1/22/2020\": Start2020,\n",
    "                                     \"Infections as of 12/31/2020\": End2020,\n",
    "                                     \"Infections as of 12/31/2021\": End2021,\n",
    "                                     \"Infections as of 12/31/2022\": End2022,\n",
    "                                     \"Infections as of 3/9/2023\": End2023})"
   ]
  },
  {
   "cell_type": "code",
   "execution_count": null,
   "metadata": {},
   "outputs": [],
   "source": [
    "study_data_partial = pd.merge(average_infections_state, clean_final_pop_df, on=[\"Province_State\"])\n",
    "study_data_full = pd.merge(study_data_partial, state_gdp_df_clean, on=[\"Province_State\"])"
   ]
  },
  {
   "cell_type": "code",
   "execution_count": null,
   "metadata": {},
   "outputs": [],
   "source": [
    "gdf = gpd.read_file('./Data/cb_2018_us_state_500k')\n",
    "clean1_gdf = gdf.rename(columns = {\"NAME\" : \"Province_State\"})\n",
    "clean_gdf = clean1_gdf.drop(columns = {\"STATEFP\", \"STATENS\", \"AFFGEOID\", \"GEOID\", \"STUSPS\", \"LSAD\", \"ALAND\", \"AWATER\"})"
   ]
  },
  {
   "cell_type": "code",
   "execution_count": null,
   "metadata": {},
   "outputs": [],
   "source": [
    "final_df = clean_gdf.merge(study_data_full, on=[\"Province_State\"])\n",
    "final_df[\"2020 Infections per 100k\"] = ((final_df[\"Infections as of 12/31/2020\"]/final_df[\"Population\"])*100000)\n",
    "final_df[\"2021 Infections per 100k\"] = (((final_df[\"Infections as of 12/31/2021\"] - final_df[\"Infections as of 12/31/2020\"])/final_df[\"Population\"])*100000)\n",
    "final_df[\"2022 Infections per 100k\"] = (((final_df[\"Infections as of 12/31/2022\"] - final_df[\"Infections as of 12/31/2021\"])/final_df[\"Population\"])*100000)\n",
    "final_df[\"03.09.2023 Infections per 100k\"] = (((final_df[\"Infections as of 3/9/2023\"] - final_df[\"Infections as of 12/31/2022\"])/final_df[\"Population\"])*100000)"
   ]
  },
  {
   "cell_type": "code",
   "execution_count": null,
   "metadata": {},
   "outputs": [],
   "source": [
    "#The variable column that will be visualized\n",
    "variable = '2020 Infections per 100k'\n",
    "\n",
    "def makeColorColumn(final_df,variable,vmin,vmax):\n",
    "    #Creates a column of assigned colors\n",
    "    norm = mcolors.Normalize(vmin=vmin, vmax=vmax, clip=True)\n",
    "    mapper = plt.cm.ScalarMappable(norm=norm, cmap=plt.cm.YlOrRd)\n",
    "    final_df['value_determined_color'] = final_df[variable].apply(lambda x: mcolors.to_hex(mapper.to_rgba(x)))\n",
    "    return final_df\n",
    "\n",
    "#Setting the range and bounds for the colorbar\n",
    "vmin, vmax = final_df[\"2020 Infections per 100k\"].min(), final_df[\"2020 Infections per 100k\"].max()\n",
    "colormap = \"YlOrRd\"\n",
    "final_df = makeColorColumn(final_df,variable,vmin,vmax)\n",
    "\n",
    "#Creating a dataframe that would hold the ESPG code which will format the visual\n",
    "visframe = final_df.to_crs({'init':'epsg:2163'})\n",
    "\n",
    "\n",
    "\n",
    "#Matplotlib, creating the figure\n",
    "fig, ax = plt.subplots(1, figsize=(18, 14))\n",
    "#Removing the axis box from around the visualization\n",
    "ax.axis('off')\n",
    "\n",
    "#Title of the graph\n",
    "ax.set_title('Novel Covid-19 Infections per 100k Population as of\\n12/31/2020', fontdict={'fontsize': '42', 'fontweight' : '1'})\n",
    "\n",
    "#Creating a legend for the colorbar\n",
    "fig = ax.get_figure()\n",
    "#Adding in the colorbar axis\n",
    "cbax = fig.add_axes([0.89, 0.21, 0.03, 0.31])   \n",
    "\n",
    "cbax.set_title('Number of infections\\nper 100k population\\n', fontdict={'fontsize': '15', 'fontweight' : '0'})\n",
    "\n",
    "#Adding in a color scale\n",
    "sm = plt.cm.ScalarMappable(cmap=colormap, \\\n",
    "                 norm=plt.Normalize(vmin=vmin, vmax=vmax))\n",
    "#Reformatting tick labels\n",
    "sm._A = []\n",
    "comma_fmt = FuncFormatter(lambda x, p: format(x))\n",
    "fig.colorbar(sm, cax=cbax, format=comma_fmt)\n",
    "tick_font_size = 16\n",
    "cbax.tick_params(labelsize=tick_font_size)\n",
    "#Annotating the link to the data\n",
    "ax.annotate(\"Data: COVID-19 Data Repository by the Center for Systems Science and Engineering (CSSE) at Johns Hopkins University,\\naccessed 08 Aug 24, https://github.com/CSSEGISandData/COVID-19/tree/master\", xy=(0.22, .085), xycoords='figure fraction', fontsize=14, color='#555555')\n",
    "\n",
    "#Creating the map\n",
    "for row in visframe.itertuples():\n",
    "    if row.Province_State not in ['Alaska','Hawaii']:\n",
    "        vf = visframe[visframe.Province_State==row.Province_State]\n",
    "        c = final_df[final_df.Province_State==row.Province_State][0:1].value_determined_color.item()\n",
    "        vf.plot(color=c, linewidth=0.8, ax=ax, edgecolor='0.8')\n",
    "\n",
    "#Adding in Alaska\n",
    "alaskaaxis = fig.add_axes([0.1, 0.17, 0.2, 0.19])   \n",
    "alaskaaxis.axis('off')\n",
    "#Polygon for capturing the Aleutian Islands\n",
    "alaskapolygon = Polygon([(-170,50),(-170,72),(-140, 72),(-140,50)])\n",
    "alaska = final_df[final_df.Province_State=='Alaska']\n",
    "alaska.clip(alaskapolygon).plot(color=final_df[final_df.Province_State=='Alaska'].value_determined_color, linewidth=0.8,ax=alaskaaxis, edgecolor='0.8')\n",
    "\n",
    "\n",
    "#Adding in Hawii to the bottom left corner\n",
    "hawaiiaxis = fig.add_axes([.28, 0.20, 0.1, 0.1])   \n",
    "hawaiiaxis.axis('off')\n",
    "#Polygon for capturing the entirety of Hawaii\n",
    "hawaiipolygon = Polygon([(-160,0),(-160,90),(-120,90),(-120,0)])\n",
    "hawaii = final_df[final_df.Province_State=='Hawaii']\n",
    "hawaii.clip(hawaiipolygon).plot(column=variable, color=hawaii['value_determined_color'], linewidth=0.8,ax=hawaiiaxis, edgecolor='0.8')\n",
    "\n",
    "\n",
    "fig.savefig('./Data/2020Infections.png',dpi=400, bbox_inches=\"tight\")"
   ]
  },
  {
   "cell_type": "code",
   "execution_count": null,
   "metadata": {},
   "outputs": [],
   "source": [
    "#The variable column that will be visualized\n",
    "variable = '2021 Infections per 100k'\n",
    "\n",
    "def makeColorColumn(final_df,variable,vmin,vmax):\n",
    "    #Creates a column of assigned colors\n",
    "    norm = mcolors.Normalize(vmin=vmin, vmax=vmax, clip=True)\n",
    "    mapper = plt.cm.ScalarMappable(norm=norm, cmap=plt.cm.YlOrRd)\n",
    "    final_df['value_determined_color'] = final_df[variable].apply(lambda x: mcolors.to_hex(mapper.to_rgba(x)))\n",
    "    return final_df\n",
    "\n",
    "#Setting the range and bounds for the colorbar\n",
    "vmin, vmax = final_df[\"2021 Infections per 100k\"].min(), final_df[\"2021 Infections per 100k\"].max()\n",
    "colormap = \"YlOrRd\"\n",
    "final_df = makeColorColumn(final_df,variable,vmin,vmax)\n",
    "\n",
    "#Creating a dataframe that would hold the ESPG code which will format the visual\n",
    "visframe = final_df.to_crs({'init':'epsg:2163'})\n",
    "\n",
    "\n",
    "\n",
    "#Matplotlib, creating the figure\n",
    "fig, ax = plt.subplots(1, figsize=(18, 14))\n",
    "#Removing the axis box from around the visualization\n",
    "ax.axis('off')\n",
    "\n",
    "#Title of the graph\n",
    "ax.set_title('Novel Covid-19 Infections per 100k Population as of\\n12/31/2021', fontdict={'fontsize': '42', 'fontweight' : '1'})\n",
    "\n",
    "#Creating a legend for the colorbar\n",
    "fig = ax.get_figure()\n",
    "#Adding in the colorbar axis\n",
    "cbax = fig.add_axes([0.89, 0.21, 0.03, 0.31])   \n",
    "\n",
    "cbax.set_title('Number of infections\\nper 100k population\\n', fontdict={'fontsize': '15', 'fontweight' : '0'})\n",
    "\n",
    "#Adding in a color scale\n",
    "sm = plt.cm.ScalarMappable(cmap=colormap, \\\n",
    "                 norm=plt.Normalize(vmin=vmin, vmax=vmax))\n",
    "#Reformatting tick labels\n",
    "sm._A = []\n",
    "comma_fmt = FuncFormatter(lambda x, p: format(x))\n",
    "fig.colorbar(sm, cax=cbax, format=comma_fmt)\n",
    "tick_font_size = 16\n",
    "cbax.tick_params(labelsize=tick_font_size)\n",
    "#Annotating the link to the data\n",
    "ax.annotate(\"Data: COVID-19 Data Repository by the Center for Systems Science and Engineering (CSSE) at Johns Hopkins University,\\naccessed 08 Aug 24, https://github.com/CSSEGISandData/COVID-19/tree/master\", xy=(0.22, .085), xycoords='figure fraction', fontsize=14, color='#555555')\n",
    "\n",
    "#Creating the map\n",
    "for row in visframe.itertuples():\n",
    "    if row.Province_State not in ['Alaska','Hawaii']:\n",
    "        vf = visframe[visframe.Province_State==row.Province_State]\n",
    "        c = final_df[final_df.Province_State==row.Province_State][0:1].value_determined_color.item()\n",
    "        vf.plot(color=c, linewidth=0.8, ax=ax, edgecolor='0.8')\n",
    "\n",
    "#Adding in Alaska\n",
    "alaskaaxis = fig.add_axes([0.1, 0.17, 0.2, 0.19])   \n",
    "alaskaaxis.axis('off')\n",
    "#Polygon for capturing the Aleutian Islands\n",
    "alaskapolygon = Polygon([(-170,50),(-170,72),(-140, 72),(-140,50)])\n",
    "alaska = final_df[final_df.Province_State=='Alaska']\n",
    "alaska.clip(alaskapolygon).plot(color=final_df[final_df.Province_State=='Alaska'].value_determined_color, linewidth=0.8,ax=alaskaaxis, edgecolor='0.8')\n",
    "\n",
    "\n",
    "#Adding in Hawii to the bottom left corner\n",
    "hawaiiaxis = fig.add_axes([.28, 0.20, 0.1, 0.1])   \n",
    "hawaiiaxis.axis('off')\n",
    "#Polygon for capturing the entirety of Hawaii\n",
    "hawaiipolygon = Polygon([(-160,0),(-160,90),(-120,90),(-120,0)])\n",
    "hawaii = final_df[final_df.Province_State=='Hawaii']\n",
    "hawaii.clip(hawaiipolygon).plot(column=variable, color=hawaii['value_determined_color'], linewidth=0.8,ax=hawaiiaxis, edgecolor='0.8')\n",
    "\n",
    "\n",
    "fig.savefig('./Data/2021Infections.png',dpi=400, bbox_inches=\"tight\")"
   ]
  },
  {
   "cell_type": "code",
   "execution_count": null,
   "metadata": {},
   "outputs": [],
   "source": [
    "#The variable column that will be visualized\n",
    "variable = '2022 Infections per 100k'\n",
    "\n",
    "def makeColorColumn(final_df,variable,vmin,vmax):\n",
    "    #Creates a column of assigned colors\n",
    "    norm = mcolors.Normalize(vmin=vmin, vmax=vmax, clip=True)\n",
    "    mapper = plt.cm.ScalarMappable(norm=norm, cmap=plt.cm.YlOrRd)\n",
    "    final_df['value_determined_color'] = final_df[variable].apply(lambda x: mcolors.to_hex(mapper.to_rgba(x)))\n",
    "    return final_df\n",
    "\n",
    "#Setting the range and bounds for the colorbar\n",
    "vmin, vmax = final_df[\"2022 Infections per 100k\"].min(), final_df[\"2022 Infections per 100k\"].max()\n",
    "colormap = \"YlOrRd\"\n",
    "final_df = makeColorColumn(final_df,variable,vmin,vmax)\n",
    "\n",
    "#Creating a dataframe that would hold the ESPG code which will format the visual\n",
    "visframe = final_df.to_crs({'init':'epsg:2163'})\n",
    "\n",
    "\n",
    "\n",
    "#Matplotlib, creating the figure\n",
    "fig, ax = plt.subplots(1, figsize=(18, 14))\n",
    "#Removing the axis box from around the visualization\n",
    "ax.axis('off')\n",
    "\n",
    "#Title of the graph\n",
    "ax.set_title('Novel Covid-19 Infections per 100k Population as of\\n12/31/2022', fontdict={'fontsize': '42', 'fontweight' : '1'})\n",
    "\n",
    "#Creating a legend for the colorbar\n",
    "fig = ax.get_figure()\n",
    "#Adding in the colorbar axis\n",
    "cbax = fig.add_axes([0.89, 0.21, 0.03, 0.31])   \n",
    "\n",
    "cbax.set_title('Number of infections\\nper 100k population\\n', fontdict={'fontsize': '15', 'fontweight' : '0'})\n",
    "\n",
    "#Adding in a color scale\n",
    "sm = plt.cm.ScalarMappable(cmap=colormap, \\\n",
    "                 norm=plt.Normalize(vmin=vmin, vmax=vmax))\n",
    "#Reformatting tick labels\n",
    "sm._A = []\n",
    "comma_fmt = FuncFormatter(lambda x, p: format(x))\n",
    "fig.colorbar(sm, cax=cbax, format=comma_fmt)\n",
    "tick_font_size = 16\n",
    "cbax.tick_params(labelsize=tick_font_size)\n",
    "#Annotating the link to the data\n",
    "ax.annotate(\"Data: COVID-19 Data Repository by the Center for Systems Science and Engineering (CSSE) at Johns Hopkins University,\\naccessed 08 Aug 24, https://github.com/CSSEGISandData/COVID-19/tree/master\", xy=(0.22, .085), xycoords='figure fraction', fontsize=14, color='#555555')\n",
    "\n",
    "#Creating the map\n",
    "for row in visframe.itertuples():\n",
    "    if row.Province_State not in ['Alaska','Hawaii']:\n",
    "        vf = visframe[visframe.Province_State==row.Province_State]\n",
    "        c = final_df[final_df.Province_State==row.Province_State][0:1].value_determined_color.item()\n",
    "        vf.plot(color=c, linewidth=0.8, ax=ax, edgecolor='0.8')\n",
    "\n",
    "#Adding in Alaska\n",
    "alaskaaxis = fig.add_axes([0.1, 0.17, 0.2, 0.19])   \n",
    "alaskaaxis.axis('off')\n",
    "#Polygon for capturing the Aleutian Islands\n",
    "alaskapolygon = Polygon([(-170,50),(-170,72),(-140, 72),(-140,50)])\n",
    "alaska = final_df[final_df.Province_State=='Alaska']\n",
    "alaska.clip(alaskapolygon).plot(color=final_df[final_df.Province_State=='Alaska'].value_determined_color, linewidth=0.8,ax=alaskaaxis, edgecolor='0.8')\n",
    "\n",
    "\n",
    "#Adding in Hawii to the bottom left corner\n",
    "hawaiiaxis = fig.add_axes([.28, 0.20, 0.1, 0.1])   \n",
    "hawaiiaxis.axis('off')\n",
    "#Polygon for capturing the entirety of Hawaii\n",
    "hawaiipolygon = Polygon([(-160,0),(-160,90),(-120,90),(-120,0)])\n",
    "hawaii = final_df[final_df.Province_State=='Hawaii']\n",
    "hawaii.clip(hawaiipolygon).plot(column=variable, color=hawaii['value_determined_color'], linewidth=0.8,ax=hawaiiaxis, edgecolor='0.8')\n",
    "\n",
    "\n",
    "fig.savefig('./Data/2022Infections.png',dpi=400, bbox_inches=\"tight\")"
   ]
  },
  {
   "cell_type": "code",
   "execution_count": null,
   "metadata": {},
   "outputs": [],
   "source": [
    "#The variable column that will be visualized\n",
    "variable = '03.09.2023 Infections per 100k'\n",
    "\n",
    "def makeColorColumn(final_df,variable,vmin,vmax):\n",
    "    #Creates a column of assigned colors\n",
    "    norm = mcolors.Normalize(vmin=vmin, vmax=vmax, clip=True)\n",
    "    mapper = plt.cm.ScalarMappable(norm=norm, cmap=plt.cm.YlOrRd)\n",
    "    final_df['value_determined_color'] = final_df[variable].apply(lambda x: mcolors.to_hex(mapper.to_rgba(x)))\n",
    "    return final_df\n",
    "\n",
    "#Setting the range and bounds for the colorbar\n",
    "vmin, vmax = final_df[\"03.09.2023 Infections per 100k\"].min(), final_df[\"03.09.2023 Infections per 100k\"].max()\n",
    "colormap = \"YlOrRd\"\n",
    "final_df = makeColorColumn(final_df,variable,vmin,vmax)\n",
    "\n",
    "#Creating a dataframe that would hold the ESPG code which will format the visual\n",
    "visframe = final_df.to_crs({'init':'epsg:2163'})\n",
    "\n",
    "\n",
    "\n",
    "#Matplotlib, creating the figure\n",
    "fig, ax = plt.subplots(1, figsize=(18, 14))\n",
    "#Removing the axis box from around the visualization\n",
    "ax.axis('off')\n",
    "\n",
    "#Title of the graph\n",
    "ax.set_title('Novel Covid-19 Infections per 100k Population as of\\n03/09/2023', fontdict={'fontsize': '42', 'fontweight' : '1'})\n",
    "\n",
    "#Creating a legend for the colorbar\n",
    "fig = ax.get_figure()\n",
    "#Adding in the colorbar axis\n",
    "cbax = fig.add_axes([0.89, 0.21, 0.03, 0.31])   \n",
    "\n",
    "cbax.set_title('Number of infections\\nper 100k population\\n', fontdict={'fontsize': '15', 'fontweight' : '0'})\n",
    "\n",
    "#Adding in a color scale\n",
    "sm = plt.cm.ScalarMappable(cmap=colormap, \\\n",
    "                 norm=plt.Normalize(vmin=vmin, vmax=vmax))\n",
    "#Reformatting tick labels\n",
    "sm._A = []\n",
    "comma_fmt = FuncFormatter(lambda x, p: format(x))\n",
    "fig.colorbar(sm, cax=cbax, format=comma_fmt)\n",
    "tick_font_size = 16\n",
    "cbax.tick_params(labelsize=tick_font_size)\n",
    "#Annotating the link to the data\n",
    "ax.annotate(\"Data: COVID-19 Data Repository by the Center for Systems Science and Engineering (CSSE) at Johns Hopkins University,\\naccessed 08 Aug 24, https://github.com/CSSEGISandData/COVID-19/tree/master\", xy=(0.22, .085), xycoords='figure fraction', fontsize=14, color='#555555')\n",
    "\n",
    "#Creating the map\n",
    "for row in visframe.itertuples():\n",
    "    if row.Province_State not in ['Alaska','Hawaii']:\n",
    "        vf = visframe[visframe.Province_State==row.Province_State]\n",
    "        c = final_df[final_df.Province_State==row.Province_State][0:1].value_determined_color.item()\n",
    "        vf.plot(color=c, linewidth=0.8, ax=ax, edgecolor='0.8')\n",
    "\n",
    "#Adding in Alaska\n",
    "alaskaaxis = fig.add_axes([0.1, 0.17, 0.2, 0.19])   \n",
    "alaskaaxis.axis('off')\n",
    "#Polygon for capturing the Aleutian Islands\n",
    "alaskapolygon = Polygon([(-170,50),(-170,72),(-140, 72),(-140,50)])\n",
    "alaska = final_df[final_df.Province_State=='Alaska']\n",
    "alaska.clip(alaskapolygon).plot(color=final_df[final_df.Province_State=='Alaska'].value_determined_color, linewidth=0.8,ax=alaskaaxis, edgecolor='0.8')\n",
    "\n",
    "\n",
    "#Adding in Hawii to the bottom left corner\n",
    "hawaiiaxis = fig.add_axes([.28, 0.20, 0.1, 0.1])   \n",
    "hawaiiaxis.axis('off')\n",
    "#Polygon for capturing the entirety of Hawaii\n",
    "hawaiipolygon = Polygon([(-160,0),(-160,90),(-120,90),(-120,0)])\n",
    "hawaii = final_df[final_df.Province_State=='Hawaii']\n",
    "hawaii.clip(hawaiipolygon).plot(column=variable, color=hawaii['value_determined_color'], linewidth=0.8,ax=hawaiiaxis, edgecolor='0.8')\n",
    "\n",
    "\n",
    "fig.savefig('./Data/2023Infections.png',dpi=400, bbox_inches=\"tight\")"
   ]
  },
  {
   "cell_type": "code",
   "execution_count": null,
   "metadata": {},
   "outputs": [],
   "source": [
    "#The variable column that will be visualized\n",
    "variable = 'Infections as of 1/22/2020'\n",
    "\n",
    "def makeColorColumn(final_df,variable,vmin,vmax):\n",
    "    #Creates a column of assigned colors\n",
    "    norm = mcolors.Normalize(vmin=vmin, vmax=vmax, clip=True)\n",
    "    mapper = plt.cm.ScalarMappable(norm=norm, cmap=plt.cm.YlOrRd)\n",
    "    final_df['value_determined_color'] = final_df[variable].apply(lambda x: mcolors.to_hex(mapper.to_rgba(x)))\n",
    "    return final_df\n",
    "\n",
    "#Setting the range and bounds for the colorbar\n",
    "vmin, vmax = final_df[\"Infections as of 1/22/2020\"].min(), final_df[\"Infections as of 1/22/2020\"].max()\n",
    "colormap = \"YlOrRd\"\n",
    "final_df = makeColorColumn(final_df,variable,vmin,vmax)\n",
    "\n",
    "#Creating a dataframe that would hold the ESPG code which will format the visual\n",
    "visframe = final_df.to_crs({'init':'epsg:2163'})\n",
    "\n",
    "#Matplotlib, creating the figure\n",
    "fig, ax = plt.subplots(1, figsize=(18, 14))\n",
    "#Removing the axis box from around the visualization\n",
    "ax.axis('off')\n",
    "\n",
    "#Title of the graph\n",
    "ax.set_title('Novel Covid-19 Infections per 100k Population as of\\n01/22/2020', fontdict={'fontsize': '42', 'fontweight' : '1'})\n",
    "\n",
    "#Creating a legend for the colorbar\n",
    "fig = ax.get_figure()\n",
    "#Adding in the colorbar axis\n",
    "cbax = fig.add_axes([0.89, 0.21, 0.03, 0.31])   \n",
    "\n",
    "cbax.set_title('Number of infections\\nper 100k population\\n', fontdict={'fontsize': '15', 'fontweight' : '0'})\n",
    "\n",
    "#Adding in a color scale\n",
    "sm = plt.cm.ScalarMappable(cmap=colormap)\n",
    "#Reformatting tick labels\n",
    "sm._A = []\n",
    "comma_fmt = FuncFormatter(lambda x, p: format(x))\n",
    "fig.colorbar(sm, cax=cbax, format=comma_fmt)\n",
    "tick_font_size = 16\n",
    "cbax.tick_params(labelsize=tick_font_size)\n",
    "#Annotating the link to the data\n",
    "ax.annotate(\"Data: COVID-19 Data Repository by the Center for Systems Science and Engineering (CSSE) at Johns Hopkins University,\\naccessed 08 Aug 24, https://github.com/CSSEGISandData/COVID-19/tree/master\", xy=(0.22, .085), xycoords='figure fraction', fontsize=14, color='#555555')\n",
    "\n",
    "\n",
    "#Creating the map\n",
    "for row in visframe.itertuples():\n",
    "    if row.Province_State not in ['Alaska','Hawaii']:\n",
    "        vf = visframe[visframe.Province_State==row.Province_State]\n",
    "        c = final_df[final_df.Province_State==row.Province_State][0:1].value_determined_color.item()\n",
    "        vf.plot(color=c, linewidth=0.8, ax=ax, edgecolor='0.8')\n",
    "\n",
    "\n",
    "\n",
    "#Adding in Alaska\n",
    "alaskaaxis = fig.add_axes([0.1, 0.17, 0.2, 0.19])   \n",
    "alaskaaxis.axis('off')\n",
    "#Polygon for capturing the Aleutian Islands\n",
    "alaskapolygon = Polygon([(-170,50),(-170,72),(-140, 72),(-140,50)])\n",
    "alaska = final_df[final_df.Province_State=='Alaska']\n",
    "alaska.clip(alaskapolygon).plot(color=final_df[final_df.Province_State=='Alaska'].value_determined_color, linewidth=0.8,ax=alaskaaxis, edgecolor='0.8')\n",
    "\n",
    "\n",
    "#Adding in Hawii to the bottom left corner\n",
    "hawaiiaxis = fig.add_axes([.28, 0.20, 0.1, 0.1])   \n",
    "hawaiiaxis.axis('off')\n",
    "#Polygon for capturing the entirety of Hawaii\n",
    "hawaiipolygon = Polygon([(-160,0),(-160,90),(-120,90),(-120,0)])\n",
    "hawaii = final_df[final_df.Province_State=='Hawaii']\n",
    "hawaii.clip(hawaiipolygon).plot(column=variable, color=hawaii['value_determined_color'], linewidth=0.8,ax=hawaiiaxis, edgecolor='0.8')\n",
    "\n",
    "\n",
    "fig.savefig('./Data/2020StartInfections.png',dpi=400, bbox_inches=\"tight\")"
   ]
  },
  {
   "cell_type": "code",
   "execution_count": null,
   "metadata": {},
   "outputs": [],
   "source": [
    "#Nicholas"
   ]
  },
  {
   "cell_type": "code",
   "execution_count": null,
   "metadata": {},
   "outputs": [],
   "source": [
    "#Mysee"
   ]
  },
  {
   "cell_type": "code",
   "execution_count": null,
   "metadata": {},
   "outputs": [],
   "source": []
  },
  {
   "cell_type": "code",
   "execution_count": null,
   "metadata": {},
   "outputs": [],
   "source": []
  },
  {
   "cell_type": "code",
   "execution_count": null,
   "metadata": {},
   "outputs": [],
   "source": []
  },
  {
   "cell_type": "code",
   "execution_count": null,
   "metadata": {},
   "outputs": [],
   "source": []
  },
  {
   "cell_type": "code",
   "execution_count": null,
   "metadata": {},
   "outputs": [],
   "source": []
  },
  {
   "cell_type": "code",
   "execution_count": null,
   "metadata": {},
   "outputs": [],
   "source": []
  },
  {
   "cell_type": "code",
   "execution_count": null,
   "metadata": {},
   "outputs": [],
   "source": []
  },
  {
   "cell_type": "code",
   "execution_count": null,
   "metadata": {},
   "outputs": [],
   "source": []
  },
  {
   "cell_type": "code",
   "execution_count": null,
   "metadata": {},
   "outputs": [],
   "source": []
  },
  {
   "cell_type": "code",
   "execution_count": null,
   "metadata": {},
   "outputs": [],
   "source": []
  },
  {
   "cell_type": "code",
   "execution_count": null,
   "metadata": {},
   "outputs": [],
   "source": []
  },
  {
   "cell_type": "code",
   "execution_count": null,
   "metadata": {},
   "outputs": [],
   "source": []
  },
  {
   "cell_type": "code",
   "execution_count": null,
   "metadata": {},
   "outputs": [],
   "source": []
  },
  {
   "cell_type": "code",
   "execution_count": null,
   "metadata": {},
   "outputs": [],
   "source": []
  },
  {
   "cell_type": "code",
   "execution_count": null,
   "metadata": {},
   "outputs": [],
   "source": []
  },
  {
   "cell_type": "code",
   "execution_count": null,
   "metadata": {},
   "outputs": [],
   "source": []
  },
  {
   "cell_type": "code",
   "execution_count": null,
   "metadata": {},
   "outputs": [],
   "source": []
  },
  {
   "cell_type": "code",
   "execution_count": null,
   "metadata": {},
   "outputs": [],
   "source": []
  },
  {
   "cell_type": "code",
   "execution_count": null,
   "metadata": {},
   "outputs": [],
   "source": [
    "#Mysee"
   ]
  },
  {
   "cell_type": "code",
   "execution_count": null,
   "metadata": {},
   "outputs": [],
   "source": [
    "#Micah"
   ]
  },
  {
   "cell_type": "code",
   "execution_count": null,
   "metadata": {},
   "outputs": [],
   "source": []
  },
  {
   "cell_type": "code",
   "execution_count": null,
   "metadata": {},
   "outputs": [],
   "source": []
  },
  {
   "cell_type": "code",
   "execution_count": null,
   "metadata": {},
   "outputs": [],
   "source": []
  },
  {
   "cell_type": "code",
   "execution_count": null,
   "metadata": {},
   "outputs": [],
   "source": []
  },
  {
   "cell_type": "code",
   "execution_count": null,
   "metadata": {},
   "outputs": [],
   "source": []
  },
  {
   "cell_type": "code",
   "execution_count": null,
   "metadata": {},
   "outputs": [],
   "source": []
  },
  {
   "cell_type": "code",
   "execution_count": null,
   "metadata": {},
   "outputs": [],
   "source": []
  },
  {
   "cell_type": "code",
   "execution_count": null,
   "metadata": {},
   "outputs": [],
   "source": []
  },
  {
   "cell_type": "code",
   "execution_count": null,
   "metadata": {},
   "outputs": [],
   "source": []
  },
  {
   "cell_type": "code",
   "execution_count": null,
   "metadata": {},
   "outputs": [],
   "source": []
  },
  {
   "cell_type": "code",
   "execution_count": null,
   "metadata": {},
   "outputs": [],
   "source": []
  },
  {
   "cell_type": "code",
   "execution_count": null,
   "metadata": {},
   "outputs": [],
   "source": []
  },
  {
   "cell_type": "code",
   "execution_count": null,
   "metadata": {},
   "outputs": [],
   "source": []
  },
  {
   "cell_type": "code",
   "execution_count": null,
   "metadata": {},
   "outputs": [],
   "source": []
  },
  {
   "cell_type": "code",
   "execution_count": null,
   "metadata": {},
   "outputs": [],
   "source": []
  },
  {
   "cell_type": "code",
   "execution_count": null,
   "metadata": {},
   "outputs": [],
   "source": []
  },
  {
   "cell_type": "code",
   "execution_count": null,
   "metadata": {},
   "outputs": [],
   "source": []
  },
  {
   "cell_type": "code",
   "execution_count": null,
   "metadata": {},
   "outputs": [],
   "source": []
  },
  {
   "cell_type": "code",
   "execution_count": null,
   "metadata": {},
   "outputs": [],
   "source": [
    "#Micah"
   ]
  }
 ],
 "metadata": {
  "kernelspec": {
   "display_name": "dev",
   "language": "python",
   "name": "python3"
  },
  "language_info": {
   "codemirror_mode": {
    "name": "ipython",
    "version": 3
   },
   "file_extension": ".py",
   "mimetype": "text/x-python",
   "name": "python",
   "nbconvert_exporter": "python",
   "pygments_lexer": "ipython3",
   "version": "3.10.14"
  }
 },
 "nbformat": 4,
 "nbformat_minor": 2
}
